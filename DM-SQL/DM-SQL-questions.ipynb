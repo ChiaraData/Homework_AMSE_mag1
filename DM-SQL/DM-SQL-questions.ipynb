{
 "cells": [
  {
   "cell_type": "markdown",
   "id": "ab8a1b54-696e-4766-9f1b-7850c86d5ab0",
   "metadata": {},
   "source": [
    "# DM - cours DATA partie SQL - 2025"
   ]
  },
  {
   "cell_type": "markdown",
   "id": "f455b3ee-6bbb-43af-9403-1cea71fb7981",
   "metadata": {},
   "source": [
    "The notebook must be returned completed before May 2, 2025 to jean.delpech@adalab.fr\n",
    "\n",
    "I repeat (again) :\n",
    "- always build your queries step by step : start small, and make them more and more elaborate\n",
    "- read the course\n",
    "- first formulate the operations you want to perform in order, then look for how to implement them in SQL (course, tutorial, doc, stackoverflow, etc.)\n",
    "\n",
    "You will find 5 `.csv` files in the folder data/DM-SQL. \n",
    "\n",
    "## 1. Load them in a database by a method of your choice :"
   ]
  },
  {
   "cell_type": "code",
   "execution_count": 1,
   "id": "2ad8cced-80f0-4a32-95dc-db3abd153ae8",
   "metadata": {},
   "outputs": [
    {
     "name": "stdout",
     "output_type": "stream",
     "text": [
      "Intel MKL WARNING: Support of Intel(R) Streaming SIMD Extensions 4.2 (Intel(R) SSE4.2) enabled only processors has been deprecated. Intel oneAPI Math Kernel Library 2025.0 will require Intel(R) Advanced Vector Extensions (Intel(R) AVX) instructions.\n",
      "Intel MKL WARNING: Support of Intel(R) Streaming SIMD Extensions 4.2 (Intel(R) SSE4.2) enabled only processors has been deprecated. Intel oneAPI Math Kernel Library 2025.0 will require Intel(R) Advanced Vector Extensions (Intel(R) AVX) instructions.\n",
      "units.csv importé dans la table units\n",
      "admissions.csv importé dans la table admissions\n",
      "payment.csv importé dans la table payment\n",
      "patients.csv importé dans la table patients\n",
      "hospitals.csv importé dans la table hospitals\n"
     ]
    }
   ],
   "source": [
    "# your code here\n",
    "import sqlite3\n",
    "import pandas as pd\n",
    "import os\n",
    "\n",
    "\n",
    "csv_folder = \"Data\"\n",
    "\n",
    "conn = sqlite3.connect(os.path.join(csv_folder, 'database.db'))\n",
    "\n",
    "for file in os.listdir(csv_folder):\n",
    "    if file.endswith(\".csv\"):\n",
    "        file_path = os.path.join(csv_folder, file)\n",
    "        table_name = os.path.splitext(file)[0]  \n",
    "        df = pd.read_csv(file_path)\n",
    "        df.to_sql(table_name, conn, if_exists='replace', index=False)\n",
    "        print(f\"{file} importé dans la table {table_name}\")\n",
    "\n",
    "conn.close()"
   ]
  },
  {
   "cell_type": "markdown",
   "id": "568a4b85-5cdb-4d77-94af-4fc8a8269d46",
   "metadata": {},
   "source": [
    "Then answer the questions :"
   ]
  },
  {
   "cell_type": "markdown",
   "id": "da3d769f-ec45-4833-bb70-b5f4c2975469",
   "metadata": {},
   "source": [
    "## 2. List the tables and columns in each table. Create an ERD. Indicate the primary key and any foreign keys for each table. Write down the different relationships and their types (one-to-one, one-to-many, etc.)"
   ]
  },
  {
   "cell_type": "code",
   "execution_count": 2,
   "id": "219d0717-7736-43f3-8fd7-139a2b19728f",
   "metadata": {},
   "outputs": [],
   "source": [
    "# your code here (load the data)\n",
    "conn = sqlite3.connect(\"Data/database.db\")\n",
    "cursor = conn.cursor()"
   ]
  },
  {
   "cell_type": "code",
   "execution_count": 3,
   "id": "dc6415a4-c843-4c13-aaf9-f4bc0f74141c",
   "metadata": {},
   "outputs": [
    {
     "name": "stdout",
     "output_type": "stream",
     "text": [
      "\n",
      "----- table hospitals columns -----\n",
      "\n",
      "id\n",
      "name\n",
      "adresse\n",
      "\n",
      "----- table patients columns -----\n",
      "\n",
      "id\n",
      "lastname\n",
      "firstname\n",
      "address\n",
      "\n",
      "----- table payment columns -----\n",
      "\n",
      "id\n",
      "admission_id\n",
      "amount\n",
      "method\n",
      "\n",
      "----- table admissions columns -----\n",
      "\n",
      "id\n",
      "patient_id\n",
      "unit_id\n",
      "entry_date\n",
      "release_date\n",
      "\n",
      "----- table units columns -----\n",
      "\n",
      "id\n",
      "names\n",
      "id_hospital\n",
      "beds\n",
      "\n",
      "----- table sqlite_schema columns -----\n",
      "\n",
      "type\n",
      "name\n",
      "tbl_name\n",
      "rootpage\n",
      "sql\n",
      "\n",
      "----- table sqlite_temp_schema columns -----\n",
      "\n",
      "type\n",
      "name\n",
      "tbl_name\n",
      "rootpage\n",
      "sql\n"
     ]
    }
   ],
   "source": [
    "# your code here (list tables and columns)\n",
    "# list all columns of all tables\n",
    "\n",
    "list_table = 'PRAGMA table_list;'\n",
    "# first, get table name\n",
    "cursor.execute(list_table)\n",
    "for row in cursor.fetchall():\n",
    "    table = row[1] # to improve readability\n",
    "\n",
    "    # then get columns names\n",
    "    column_list = 'PRAGMA table_info(' + table +')'\n",
    "    print('\\n----- table ' + row[1] + ' columns -----\\n')\n",
    "    cursor.execute(column_list)\n",
    "    \n",
    "    # print columns names\n",
    "    for row in  cursor.fetchall():\n",
    "        column = row[1] # to improve readability\n",
    "        print(column)\n",
    "    "
   ]
  },
  {
   "cell_type": "markdown",
   "id": "e8e9d627-2e17-4066-a3bd-b6476b8736d5",
   "metadata": {},
   "source": [
    "# your code here (code for the ERD)\n",
    "![Diagramme EDR](edr.png)\n",
    "```\n",
    "Table hospitals {\n",
    "  id INTEGER [pk]\n",
    "  name TEXT\n",
    "  address TEXT\n",
    "}\n",
    "\n",
    "Table patients {\n",
    "  id INTEGER [pk]\n",
    "  lastname TEXT\n",
    "  firstname TEXT\n",
    "  address TEXT\n",
    "}\n",
    "\n",
    "Table units {\n",
    "  id INTEGER [pk]\n",
    "  names TEXT\n",
    "  id_hospitals INTEGER [ref: > hospitals.id]\n",
    "  beds INTEGER\n",
    "}\n",
    "\n",
    "Table admissions {\n",
    "  id INTEGER [pk]\n",
    "  patients_id INTEGER [ref: > patients.id]\n",
    "  unit_id INTEGER [ref: > units.id]\n",
    "  entry_date TEXT\n",
    "  release_date TEXT\n",
    "}\n",
    "\n",
    "Table payment {\n",
    "  id INTEGER [pk]\n",
    "  admissions_id INTEGER [ref: > admissions.id]\n",
    "  amount REAL\n",
    "  method TEXT\n",
    "} '''"
   ]
  },
  {
   "cell_type": "markdown",
   "id": "03d2cf5d-16c6-4e76-a783-7a04752a8c7c",
   "metadata": {},
   "source": [
    "Your responses :\n",
    "- Relationship 1 : Between units and hospital of type Many-to-One\n",
    "\n",
    "- Relationship 2 : Between admission and patients of type Many-to-One\n",
    "\n",
    "- Relationship 3 : Between admission and units of type Many-to-One\n",
    "\n",
    "- Relationship 4 : Between payment and admission of type Many-to-One or One-to-One"
   ]
  },
  {
   "cell_type": "markdown",
   "id": "133eb11a-2a79-4165-8e78-7333a1e076ad",
   "metadata": {},
   "source": [
    "## 3. How many hospitals is there in the database ?"
   ]
  },
  {
   "cell_type": "code",
   "execution_count": 24,
   "id": "0ce33cb7-dbfd-48a7-a28b-edc37c5b9c74",
   "metadata": {},
   "outputs": [
    {
     "name": "stdout",
     "output_type": "stream",
     "text": [
      "Il y a 20 hôpitaux dans la base de données.\n"
     ]
    }
   ],
   "source": [
    "# your code here\n",
    "cursor.execute(\"SELECT DISTINCT COUNT(*) FROM hospitals;\")\n",
    "\n",
    "result = cursor.fetchone()\n",
    "print(f\"Il y a {result[0]} hôpitaux dans la base de données.\")\n"
   ]
  },
  {
   "cell_type": "markdown",
   "id": "7962590a-c027-44aa-b0de-1b2f33d7d46b",
   "metadata": {},
   "source": [
    "## 4.How many hospital units of each type are there, overall (all hospitals combined)?\n",
    "\n",
    "ex. output:\n",
    "```\n",
    "('Cardiologie', 17)\n",
    "('Gastro-entérologie', 12)\n",
    "etc.\n",
    "```"
   ]
  },
  {
   "cell_type": "code",
   "execution_count": 25,
   "id": "cd67e34a-cbbb-4224-a141-ddbd2099c681",
   "metadata": {},
   "outputs": [
    {
     "name": "stdout",
     "output_type": "stream",
     "text": [
      "('Cardiologie', 17)\n",
      "('Gastro-entérologie', 12)\n",
      "('Néphrologie', 17)\n",
      "('ORL', 15)\n",
      "('Oncologie', 12)\n",
      "('Psychiatrie', 17)\n"
     ]
    }
   ],
   "source": [
    "# your code here\n",
    "cursor.execute(\"SELECT names, COUNT(*) FROM units GROUP BY names;\")\n",
    "\n",
    "results = cursor.fetchall()\n",
    "\n",
    "for result in results:\n",
    "    print(result)\n"
   ]
  },
  {
   "cell_type": "markdown",
   "id": "344a31f9-7a0b-4c7d-9eca-74238a7088ea",
   "metadata": {},
   "source": [
    "## 5. List the different units by hospitals (hospitals names and units names should both appear in the list) :\n",
    "\n",
    "ex. output :\n",
    "\n",
    "```\n",
    "('Centre Hospitalier Universitaire de Bordeaux', 'Cardiologie')\n",
    "('Centre Hospitalier Universitaire de Bordeaux', 'Gastro-entérologie')\n",
    "('Centre Hospitalier Universitaire de Bordeaux', 'ORL')\n",
    "('Centre Hospitalier Universitaire de Bordeaux', 'Psychiatrie')\n",
    "('Hôpital Saint-Louis', 'Cardiologie')\n",
    "('Hôpital Saint-Louis', 'Gastro-entérologie')\n",
    "etc.\n",
    "``` "
   ]
  },
  {
   "cell_type": "code",
   "execution_count": 5,
   "id": "fb0416b4-f3f0-454b-8e5b-d35f7e111fa5",
   "metadata": {},
   "outputs": [
    {
     "name": "stdout",
     "output_type": "stream",
     "text": [
      "('Centre Hospitalier Universitaire de Bordeaux', 'Cardiologie')\n",
      "('Centre Hospitalier Universitaire de Bordeaux', 'Gastro-entérologie')\n",
      "('Centre Hospitalier Universitaire de Bordeaux', 'ORL')\n",
      "('Centre Hospitalier Universitaire de Bordeaux', 'Psychiatrie')\n",
      "('Centre Hospitalier Universitaire de Caen', 'Cardiologie')\n",
      "('Centre Hospitalier Universitaire de Caen', 'Gastro-entérologie')\n",
      "('Centre Hospitalier Universitaire de Caen', 'Néphrologie')\n",
      "('Centre Hospitalier Universitaire de Caen', 'ORL')\n",
      "('Centre Hospitalier Universitaire de Caen', 'Psychiatrie')\n",
      "('Centre Hospitalier Universitaire de Clermont-Ferrand', 'Cardiologie')\n",
      "('Centre Hospitalier Universitaire de Clermont-Ferrand', 'Néphrologie')\n",
      "('Centre Hospitalier Universitaire de Clermont-Ferrand', 'Oncologie')\n",
      "('Centre Hospitalier Universitaire de Dijon', 'Néphrologie')\n",
      "('Centre Hospitalier Universitaire de Dijon', 'ORL')\n",
      "('Centre Hospitalier Universitaire de Dijon', 'Oncologie')\n",
      "('Centre Hospitalier Universitaire de Dijon', 'Psychiatrie')\n",
      "('Centre Hospitalier Universitaire de Grenoble', 'Cardiologie')\n",
      "('Centre Hospitalier Universitaire de Grenoble', 'Gastro-entérologie')\n",
      "('Centre Hospitalier Universitaire de Grenoble', 'Néphrologie')\n",
      "('Centre Hospitalier Universitaire de Grenoble', 'ORL')\n",
      "('Centre Hospitalier Universitaire de Grenoble', 'Oncologie')\n",
      "('Centre Hospitalier Universitaire de Grenoble', 'Psychiatrie')\n",
      "('Centre Hospitalier Universitaire de Lille', 'Cardiologie')\n",
      "('Centre Hospitalier Universitaire de Lille', 'Gastro-entérologie')\n",
      "('Centre Hospitalier Universitaire de Lille', 'Néphrologie')\n",
      "('Centre Hospitalier Universitaire de Lille', 'Néphrologie')\n",
      "('Centre Hospitalier Universitaire de Lille', 'ORL')\n",
      "('Centre Hospitalier Universitaire de Lille', 'Psychiatrie')\n",
      "('Centre Hospitalier Universitaire de Limoges', 'Cardiologie')\n",
      "('Centre Hospitalier Universitaire de Limoges', 'Gastro-entérologie')\n",
      "('Centre Hospitalier Universitaire de Limoges', 'Néphrologie')\n",
      "('Centre Hospitalier Universitaire de Limoges', 'ORL')\n",
      "('Centre Hospitalier Universitaire de Limoges', 'Oncologie')\n",
      "('Centre Hospitalier Universitaire de Limoges', 'Psychiatrie')\n",
      "('Centre Hospitalier Universitaire de Lyon', 'Cardiologie')\n",
      "('Centre Hospitalier Universitaire de Lyon', 'Gastro-entérologie')\n",
      "('Centre Hospitalier Universitaire de Lyon', 'Psychiatrie')\n",
      "('Centre Hospitalier Universitaire de Montpellier', 'Cardiologie')\n",
      "('Centre Hospitalier Universitaire de Montpellier', 'ORL')\n",
      "('Centre Hospitalier Universitaire de Montpellier', 'Oncologie')\n",
      "('Centre Hospitalier Universitaire de Nantes', 'Cardiologie')\n",
      "('Centre Hospitalier Universitaire de Nantes', 'Néphrologie')\n",
      "('Centre Hospitalier Universitaire de Nantes', 'ORL')\n",
      "('Centre Hospitalier Universitaire de Nantes', 'Psychiatrie')\n",
      "('Centre Hospitalier Universitaire de Nice', 'Néphrologie')\n",
      "('Centre Hospitalier Universitaire de Nice', 'Oncologie')\n",
      "('Centre Hospitalier Universitaire de Nice', 'Psychiatrie')\n",
      "('Centre Hospitalier Universitaire de Rennes', 'Cardiologie')\n",
      "('Centre Hospitalier Universitaire de Rennes', 'Gastro-entérologie')\n",
      "('Centre Hospitalier Universitaire de Rennes', 'Néphrologie')\n",
      "('Centre Hospitalier Universitaire de Rennes', 'ORL')\n",
      "('Centre Hospitalier Universitaire de Rennes', 'ORL')\n",
      "('Centre Hospitalier Universitaire de Rennes', 'Psychiatrie')\n",
      "('Centre Hospitalier Universitaire de Rouen', 'Cardiologie')\n",
      "('Centre Hospitalier Universitaire de Rouen', 'Gastro-entérologie')\n",
      "('Centre Hospitalier Universitaire de Rouen', 'Néphrologie')\n",
      "('Centre Hospitalier Universitaire de Rouen', 'Oncologie')\n",
      "('Centre Hospitalier Universitaire de Rouen', 'Psychiatrie')\n",
      "('Centre Hospitalier Universitaire de Strasbourg', 'Cardiologie')\n",
      "('Centre Hospitalier Universitaire de Strasbourg', 'Gastro-entérologie')\n",
      "('Centre Hospitalier Universitaire de Strasbourg', 'Néphrologie')\n",
      "('Centre Hospitalier Universitaire de Strasbourg', 'ORL')\n",
      "('Centre Hospitalier Universitaire de Strasbourg', 'Oncologie')\n",
      "('Centre Hospitalier Universitaire de Strasbourg', 'Psychiatrie')\n",
      "('Centre Hospitalier Universitaire de Toulouse', 'Cardiologie')\n",
      "('Centre Hospitalier Universitaire de Toulouse', 'Néphrologie')\n",
      "('Centre Hospitalier Universitaire de Toulouse', 'Psychiatrie')\n",
      "('Hôpital Bichat-Claude Bernard', 'Cardiologie')\n",
      "('Hôpital Bichat-Claude Bernard', 'Gastro-entérologie')\n",
      "('Hôpital Bichat-Claude Bernard', 'Néphrologie')\n",
      "('Hôpital Bichat-Claude Bernard', 'ORL')\n",
      "('Hôpital Bichat-Claude Bernard', 'Oncologie')\n",
      "('Hôpital Bichat-Claude Bernard', 'Psychiatrie')\n",
      "('Hôpital Necker-Enfants Malades', 'Gastro-entérologie')\n",
      "('Hôpital Necker-Enfants Malades', 'Néphrologie')\n",
      "('Hôpital Necker-Enfants Malades', 'Oncologie')\n",
      "('Hôpital Necker-Enfants Malades', 'Psychiatrie')\n",
      "('Hôpital Saint-Louis', 'Cardiologie')\n",
      "('Hôpital Saint-Louis', 'Gastro-entérologie')\n",
      "('Hôpital Saint-Louis', 'Néphrologie')\n",
      "('Hôpital Saint-Louis', 'ORL')\n",
      "('Hôpital Saint-Louis', 'Oncologie')\n",
      "('Hôpital Saint-Louis', 'Psychiatrie')\n",
      "('Hôpital de la Pitié-Salpêtrière', 'Cardiologie')\n",
      "('Hôpital de la Pitié-Salpêtrière', 'ORL')\n",
      "('Hôpital de la Pitié-Salpêtrière', 'Oncologie')\n",
      "('Hôpital de la Pitié-Salpêtrière', 'Psychiatrie')\n",
      "('Hôpital de la Timone', 'Cardiologie')\n",
      "('Hôpital de la Timone', 'Néphrologie')\n",
      "('Hôpital de la Timone', 'ORL')\n"
     ]
    }
   ],
   "source": [
    "# your code here\n",
    "cursor.execute(\"\"\"\n",
    "    SELECT hospitals.name, units.names\n",
    "    FROM units\n",
    "    JOIN hospitals ON units.id_hospital = hospitals.id\n",
    "    ORDER BY hospitals.name, units.names;\n",
    "\"\"\")\n",
    "results = cursor.fetchall()\n",
    "\n",
    "for result in results:\n",
    "    print(result)"
   ]
  },
  {
   "cell_type": "markdown",
   "id": "284c4253-dd69-46ce-84ec-637ad02d71b0",
   "metadata": {},
   "source": [
    "## 6. How many units in each hospital :\n",
    "\n",
    "ex. output :\n",
    "\n",
    "```\n",
    "('Centre Hospitalier Universitaire de Bordeaux', 4)\n",
    "('Centre Hospitalier Universitaire de Caen', 5)\n",
    "('Centre Hospitalier Universitaire de Clermont-Ferrand', 3)\n",
    "etc.\n",
    "```"
   ]
  },
  {
   "cell_type": "code",
   "execution_count": 7,
   "id": "b0ef5db7-ee3c-4160-b9b6-d37081946657",
   "metadata": {},
   "outputs": [
    {
     "name": "stdout",
     "output_type": "stream",
     "text": [
      "('Centre Hospitalier Universitaire de Bordeaux', 4)\n",
      "('Centre Hospitalier Universitaire de Caen', 5)\n",
      "('Centre Hospitalier Universitaire de Clermont-Ferrand', 3)\n",
      "('Centre Hospitalier Universitaire de Dijon', 4)\n",
      "('Centre Hospitalier Universitaire de Grenoble', 6)\n",
      "('Centre Hospitalier Universitaire de Lille', 6)\n",
      "('Centre Hospitalier Universitaire de Limoges', 6)\n",
      "('Centre Hospitalier Universitaire de Lyon', 3)\n",
      "('Centre Hospitalier Universitaire de Montpellier', 3)\n",
      "('Centre Hospitalier Universitaire de Nantes', 4)\n",
      "('Centre Hospitalier Universitaire de Nice', 3)\n",
      "('Centre Hospitalier Universitaire de Rennes', 6)\n",
      "('Centre Hospitalier Universitaire de Rouen', 5)\n",
      "('Centre Hospitalier Universitaire de Strasbourg', 6)\n",
      "('Centre Hospitalier Universitaire de Toulouse', 3)\n",
      "('Hôpital Bichat-Claude Bernard', 6)\n",
      "('Hôpital Necker-Enfants Malades', 4)\n",
      "('Hôpital Saint-Louis', 6)\n",
      "('Hôpital de la Pitié-Salpêtrière', 4)\n",
      "('Hôpital de la Timone', 3)\n"
     ]
    }
   ],
   "source": [
    "# your code here\n",
    "cursor.execute(\"\"\"\n",
    "    SELECT hospitals.name, COUNT(units.id) as unit_count\n",
    "    FROM hospitals\n",
    "    LEFT JOIN units ON hospitals.id = units.id_hospital\n",
    "    GROUP BY hospitals.name\n",
    "    ORDER BY hospitals.name;\n",
    "\"\"\")\n",
    "results = cursor.fetchall()\n",
    "\n",
    "for result in results:\n",
    "    print(result)"
   ]
  },
  {
   "cell_type": "markdown",
   "id": "f27fe81e-9bbd-4807-8804-b0cc957821e1",
   "metadata": {},
   "source": [
    "## 7. There are two ways to answer this question: a complex one that yields a bonus, and a longer but easier one (so no bonus). Choose between A or B:\n",
    "\n",
    "**A.** Write a query that associates each hospital with its department of origin (number):\n",
    "\n",
    "* You need to extract the first two digits of the postal code (address column)\n",
    "* Hint 1: To determine the position of the postal code in the address, observe the text and see if a character, always placed in the same location, would allow you to identify the position of the postal code\n",
    "* Hint 2: The postal code is always 5 characters long, and we're interested in the first two\n",
    "* Hint 3: You may need to use the same function twice to indicate where the substring begins and ends\n",
    "\n",
    "Recommendation: When writing a complex query, work your way through it.\n",
    "* Start by writing a query that lists the hospital addresses\n",
    "* Then add instructions to this query that remove the beginning of the text up to the postal code\n",
    "* Then add instructions to display only the portion of text (numbers) you want\n",
    "* Etc.\n",
    "\n",
    "**B.** If you can't answer this question the first way (A, which is difficult), add a \"department\" column by hand to the hospital table (using the appropriate queries of course)\n",
    "\n",
    "ex. output :\n",
    "\n",
    "```\n",
    "('Centre Hospitalier Universitaire de Bordeaux', '33')\n",
    "('Hôpital Saint-Louis', '75')\n",
    "('Centre Hospitalier Universitaire de Strasbourg', '67')\n",
    "('Centre Hospitalier Universitaire de Montpellier', '34')\n",
    "etc.\n",
    "```"
   ]
  },
  {
   "cell_type": "code",
   "execution_count": 16,
   "id": "2b721935-8343-4849-81b0-c0e89c5e87d7",
   "metadata": {},
   "outputs": [
    {
     "name": "stdout",
     "output_type": "stream",
     "text": [
      "('Centre Hospitalier Universitaire de Bordeaux', '33')\n",
      "('Hôpital Saint-Louis', '75')\n",
      "('Centre Hospitalier Universitaire de Strasbourg', '67')\n",
      "('Centre Hospitalier Universitaire de Montpellier', '34')\n",
      "('Hôpital Necker-Enfants Malades', '75')\n",
      "('Centre Hospitalier Universitaire de Toulouse', '31')\n",
      "('Hôpital de la Timone', '13')\n",
      "('Centre Hospitalier Universitaire de Nice', '06')\n",
      "('Centre Hospitalier Universitaire de Nantes', '44')\n",
      "('Hôpital de la Pitié-Salpêtrière', '75')\n",
      "('Centre Hospitalier Universitaire de Rennes', '35')\n",
      "('Centre Hospitalier Universitaire de Lille', '59')\n",
      "('Centre Hospitalier Universitaire de Grenoble', '38')\n",
      "('Hôpital Bichat-Claude Bernard', '75')\n",
      "('Centre Hospitalier Universitaire de Clermont-Ferrand', '63')\n",
      "('Centre Hospitalier Universitaire de Dijon', '21')\n",
      "('Centre Hospitalier Universitaire de Lyon', '69')\n",
      "('Centre Hospitalier Universitaire de Rouen', '76')\n",
      "('Centre Hospitalier Universitaire de Caen', '14')\n",
      "('Centre Hospitalier Universitaire de Limoges', '87')\n"
     ]
    }
   ],
   "source": [
    "# your code here\n",
    "cursor.execute(\"\"\"\n",
    "    SELECT\n",
    "        hospitals.name,\n",
    "        SUBSTR(\n",
    "            SUBSTR(\n",
    "                hospitals.adresse,\n",
    "                INSTR(hospitals.adresse, ', ') + 2,  \n",
    "                5                                    \n",
    "            ),\n",
    "            1, 2                                   \n",
    "        ) AS department\n",
    "    FROM hospitals;\n",
    "\"\"\")\n",
    "results = cursor.fetchall()\n",
    "\n",
    "for result in results:\n",
    "    print(result)"
   ]
  },
  {
   "cell_type": "markdown",
   "id": "e6f2e546-0cde-4540-bcff-0a89e44cbe97",
   "metadata": {},
   "source": [
    "## 8. Are there multiple hospitals in the same departments? List the number of hospitals per department, listed in ascending order by department number:\n",
    "\n",
    "ex. output :\n",
    "\n",
    "```\n",
    "('06', 1)\n",
    "('13', 1)\n",
    "('14', 1)\n",
    "('21', 1)\n",
    "etc.\n",
    "```"
   ]
  },
  {
   "cell_type": "code",
   "execution_count": 17,
   "id": "33eaab40-fdc5-4da1-bb77-72e16a1c8ef3",
   "metadata": {},
   "outputs": [
    {
     "name": "stdout",
     "output_type": "stream",
     "text": [
      "('06', 1)\n",
      "('13', 1)\n",
      "('14', 1)\n",
      "('21', 1)\n",
      "('31', 1)\n",
      "('33', 1)\n",
      "('34', 1)\n",
      "('35', 1)\n",
      "('38', 1)\n",
      "('44', 1)\n",
      "('59', 1)\n",
      "('63', 1)\n",
      "('67', 1)\n",
      "('69', 1)\n",
      "('75', 4)\n",
      "('76', 1)\n",
      "('87', 1)\n"
     ]
    }
   ],
   "source": [
    "# your code here\n",
    "cursor.execute(\"\"\"\n",
    "    SELECT \n",
    "        SUBSTR(\n",
    "            SUBSTR(\n",
    "                hospitals.adresse, \n",
    "                INSTR(hospitals.adresse, ', ') + 2,\n",
    "                5\n",
    "            ),\n",
    "            1, 2\n",
    "        ) AS department,\n",
    "        COUNT(*) AS hospital_count\n",
    "    FROM hospitals\n",
    "    GROUP BY department\n",
    "    ORDER BY department;\n",
    "\"\"\")\n",
    "results = cursor.fetchall()\n",
    "\n",
    "for result in results:\n",
    "    print(result)"
   ]
  },
  {
   "cell_type": "markdown",
   "id": "54b4628c-9ba3-43bd-9b10-29330101f741",
   "metadata": {},
   "source": [
    "## 9. List the number of hospital services in each department, and only display those with more than 4 (order the results by decreasing number of services):\n",
    "\n",
    "ex. output:\n",
    "\n",
    "```\n",
    "('75', 20)\n",
    "('87', 6)\n",
    "('67', 6)\n",
    "etc.\n",
    "```"
   ]
  },
  {
   "cell_type": "code",
   "execution_count": 19,
   "id": "51c18234-58fc-4626-85d7-25b5d7609093",
   "metadata": {},
   "outputs": [
    {
     "name": "stdout",
     "output_type": "stream",
     "text": [
      "('75', 20)\n",
      "('87', 6)\n",
      "('67', 6)\n",
      "('59', 6)\n",
      "('38', 6)\n",
      "('35', 6)\n",
      "('76', 5)\n",
      "('14', 5)\n"
     ]
    }
   ],
   "source": [
    "# your code here\n",
    "cursor.execute(\"\"\"\n",
    "    SELECT \n",
    "        SUBSTR(\n",
    "            SUBSTR(\n",
    "                hospitals.adresse, \n",
    "                INSTR(hospitals.adresse, ', ') + 2,\n",
    "                5\n",
    "            ),\n",
    "            1, 2\n",
    "        ) AS department,\n",
    "        COUNT(*) AS units_count\n",
    "    FROM units\n",
    "    JOIN hospitals ON units.id_hospital = hospitals.id\n",
    "    GROUP BY department\n",
    "    HAVING COUNT(*) > 4\n",
    "    ORDER BY units_count DESC;\n",
    "\"\"\")\n",
    "results = cursor.fetchall()\n",
    "\n",
    "for result in results:\n",
    "    print(result)"
   ]
  },
  {
   "cell_type": "markdown",
   "id": "afe4e3e3-1211-4c0d-9a1a-0906ae045c34",
   "metadata": {},
   "source": [
    "## 10. Admissions have a date of entry into the hospital, and a date of discharge / release. Calculate the average length (duration) of all admissions recorded in the database (in days, rounded to one decimal place)."
   ]
  },
  {
   "cell_type": "code",
   "execution_count": 20,
   "id": "ae19fd6e-ae6c-4271-abcd-00540f8e4de3",
   "metadata": {},
   "outputs": [
    {
     "name": "stdout",
     "output_type": "stream",
     "text": [
      "Durée moyenne des admissions: 14.6 jours\n"
     ]
    }
   ],
   "source": [
    "# your code here\n",
    "cursor.execute(\"\"\"\n",
    "    SELECT ROUND(AVG(JULIANDAY(release_date) - JULIANDAY(entry_date)), 1) AS avg_duration\n",
    "    FROM admissions\n",
    "    WHERE release_date IS NOT NULL;\n",
    "\"\"\")\n",
    "result = cursor.fetchone()\n",
    "print(f\"Durée moyenne des admissions: {result[0]} jours\")"
   ]
  },
  {
   "cell_type": "markdown",
   "id": "cb8eeef0-f757-4970-b478-bdf7b28a5d4c",
   "metadata": {},
   "source": [
    "## 11. Calculate the average length of a cardiology admission (all hospitals combined)."
   ]
  },
  {
   "cell_type": "code",
   "execution_count": 21,
   "id": "90ae39fe-b263-418b-8bc8-4b69626786da",
   "metadata": {},
   "outputs": [
    {
     "name": "stdout",
     "output_type": "stream",
     "text": [
      "Durée moyenne en cardiologie: 14.2 jours\n"
     ]
    }
   ],
   "source": [
    "# your code here\n",
    "cursor.execute(\"\"\"\n",
    "    SELECT ROUND(AVG(JULIANDAY(a.release_date) - JULIANDAY(a.entry_date)), 1) AS avg_duration\n",
    "    FROM admissions a\n",
    "    JOIN units u ON a.unit_id = u.id\n",
    "    WHERE u.names LIKE '%Cardiologie%' \n",
    "    AND a.release_date IS NOT NULL;\n",
    "\"\"\")\n",
    "result = cursor.fetchone()\n",
    "print(f\"Durée moyenne en cardiologie: {result[0]} jours\")"
   ]
  },
  {
   "cell_type": "markdown",
   "id": "7b224383-b428-46c3-a2d7-699e343dacc1",
   "metadata": {},
   "source": [
    "## 12. Compare (list) the average length of time for a cardiology admission between all hospitals with a cardiology department. Rank the results in descending order of this average length.\n",
    "\n",
    "ex. output:\n",
    "\n",
    "```\n",
    "('Hôpital de la Timone', 'Cardiologie', 16.5)\n",
    "('Centre Hospitalier Universitaire de Caen', 'Cardiologie', 16.0)\n",
    "('Centre Hospitalier Universitaire de Bordeaux', 'Cardiologie', 15.2)\n",
    "('Centre Hospitalier Universitaire de Strasbourg', 'Cardiologie', 15.2)\n",
    "etc.\n",
    "```"
   ]
  },
  {
   "cell_type": "code",
   "execution_count": 23,
   "id": "55da1401-3a22-4747-8cfc-5b4dd5c6e71f",
   "metadata": {},
   "outputs": [
    {
     "name": "stdout",
     "output_type": "stream",
     "text": [
      "('Hôpital de la Timone', 'Cardiologie', 16.5)\n",
      "('Centre Hospitalier Universitaire de Caen', 'Cardiologie', 16.0)\n",
      "('Centre Hospitalier Universitaire de Strasbourg', 'Cardiologie', 15.2)\n",
      "('Centre Hospitalier Universitaire de Bordeaux', 'Cardiologie', 15.2)\n",
      "('Hôpital Bichat-Claude Bernard', 'Cardiologie', 14.8)\n",
      "('Hôpital Saint-Louis', 'Cardiologie', 14.6)\n",
      "('Centre Hospitalier Universitaire de Rennes', 'Cardiologie', 14.6)\n",
      "('Hôpital de la Pitié-Salpêtrière', 'Cardiologie', 14.5)\n",
      "('Centre Hospitalier Universitaire de Lille', 'Cardiologie', 14.4)\n",
      "('Centre Hospitalier Universitaire de Limoges', 'Cardiologie', 14.1)\n",
      "('Centre Hospitalier Universitaire de Lyon', 'Cardiologie', 14.0)\n",
      "('Centre Hospitalier Universitaire de Montpellier', 'Cardiologie', 13.6)\n",
      "('Centre Hospitalier Universitaire de Rouen', 'Cardiologie', 13.2)\n",
      "('Centre Hospitalier Universitaire de Toulouse', 'Cardiologie', 12.6)\n",
      "('Centre Hospitalier Universitaire de Nantes', 'Cardiologie', 12.2)\n",
      "('Centre Hospitalier Universitaire de Grenoble', 'Cardiologie', 11.5)\n",
      "('Centre Hospitalier Universitaire de Clermont-Ferrand', 'Cardiologie', 11.4)\n"
     ]
    }
   ],
   "source": [
    "# your code here\n",
    "cursor.execute(\"\"\"\n",
    "    SELECT \n",
    "        h.name,\n",
    "        'Cardiologie' AS department,\n",
    "        ROUND(AVG(JULIANDAY(a.release_date) - JULIANDAY(a.entry_date)), 1) AS avg_duration\n",
    "    FROM admissions a\n",
    "    JOIN units u ON a.unit_id = u.id\n",
    "    JOIN hospitals h ON u.id_hospital = h.id\n",
    "    WHERE u.names LIKE '%Cardiologie%'\n",
    "    AND a.release_date IS NOT NULL\n",
    "    GROUP BY h.name\n",
    "    ORDER BY avg_duration DESC;\n",
    "\"\"\")\n",
    "results = cursor.fetchall()\n",
    "\n",
    "for result in results:\n",
    "    print(result)"
   ]
  },
  {
   "cell_type": "markdown",
   "id": "b6b52bd3-7c57-4944-b292-9107507ac166",
   "metadata": {},
   "source": [
    "## 13. What query displays the 25% of hospitals with the shortest hospital stays for cardiology? Present the output as follows:\n",
    "\n",
    "```\n",
    "('Cardiologie', 'Centre Hospitalier Universitaire de Clermont-Ferrand', '<25%')\n",
    "('Cardiologie', 'Centre Hospitalier Universitaire de Grenoble', '<25%')\n",
    "('Cardiologie', 'Centre Hospitalier Universitaire de Nantes', '<25%')\n",
    "('Cardiologie', 'Centre Hospitalier Universitaire de Toulouse', '<25%')\n",
    "('Cardiologie', 'Centre Hospitalier Universitaire de Rouen', '<25%')\n",
    "etc.\n",
    "```\n",
    "\n"
   ]
  },
  {
   "cell_type": "code",
   "execution_count": 26,
   "id": "21e797a4-f20e-4b31-9a58-17594ecebf26",
   "metadata": {},
   "outputs": [
    {
     "name": "stdout",
     "output_type": "stream",
     "text": [
      "('Cardiologie', 'Centre Hospitalier Universitaire de Clermont-Ferrand', '<25%')\n",
      "('Cardiologie', 'Centre Hospitalier Universitaire de Grenoble', '<25%')\n",
      "('Cardiologie', 'Centre Hospitalier Universitaire de Nantes', '<25%')\n",
      "('Cardiologie', 'Centre Hospitalier Universitaire de Toulouse', '<25%')\n"
     ]
    }
   ],
   "source": [
    "# your code here\n",
    "cursor.execute(\"\"\"\n",
    "    SELECT \n",
    "        'Cardiologie' AS department,\n",
    "        h.name AS hospital_name,\n",
    "        '<25%' AS percentile\n",
    "    FROM admissions a\n",
    "    JOIN units u ON a.unit_id = u.id\n",
    "    JOIN hospitals h ON u.id_hospital = h.id\n",
    "    WHERE u.names LIKE '%Cardiologie%'\n",
    "    AND a.release_date IS NOT NULL\n",
    "    GROUP BY h.name\n",
    "    ORDER BY AVG(JULIANDAY(a.release_date) - JULIANDAY(a.entry_date))\n",
    "    LIMIT (SELECT COUNT(DISTINCT h2.id) / 4 \n",
    "          FROM hospitals h2\n",
    "          JOIN units u2 ON u2.id_hospital = h2.id\n",
    "          WHERE u2.names LIKE '%Cardiologie%');\n",
    "\"\"\")\n",
    "results = cursor.fetchall()\n",
    "\n",
    "for result in results:\n",
    "    print(result)"
   ]
  }
 ],
 "metadata": {
  "kernelspec": {
   "display_name": "Python 3 (ipykernel)",
   "language": "python",
   "name": "python3"
  },
  "language_info": {
   "codemirror_mode": {
    "name": "ipython",
    "version": 3
   },
   "file_extension": ".py",
   "mimetype": "text/x-python",
   "name": "python",
   "nbconvert_exporter": "python",
   "pygments_lexer": "ipython3",
   "version": "3.12.2"
  }
 },
 "nbformat": 4,
 "nbformat_minor": 5
}
